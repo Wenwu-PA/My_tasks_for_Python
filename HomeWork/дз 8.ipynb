{
 "cells": [
  {
   "cell_type": "markdown",
   "metadata": {},
   "source": [
    "**Напишите логическую функцию, которая проверяет, верно ли,\n",
    "что введённая строка – номер телефона в стандартной форме**"
   ]
  },
  {
   "cell_type": "code",
   "execution_count": 8,
   "metadata": {},
   "outputs": [
    {
     "name": "stdout",
     "output_type": "stream",
     "text": [
      "True\n"
     ]
    }
   ],
   "source": [
    "num=input(\"number \")\n",
    "def number(a):\n",
    "    if a[0]==\"+\" and a[1]==\"7\" and a[2]==\"(\" and ((a[3]=='0') or (a[3]=='1') or (a[3]=='2') or (a[3]=='3') or (a[3]=='4') or(a[3]=='5') or (a[3]=='6') or (a[3]=='7 ') or (a[3]=='8') or (a[3]=='9')) and ((a[4]=='0') or (a[4]=='1') or (a[4]=='2') or (a[4]=='3') or (a[4]=='4') or (a[4]=='5') or (a[4]=='6') or (a[4]=='7 ') or (a[4]=='8') or (a[4]=='9')) and ((a[5]=='0') or (a[5]=='1') or (a[5]=='2') or (a[5]=='3') or (a[5]=='4') or (a[5]=='5') or (a[5]=='6') or (a[5]=='7 ') or (a[5]=='8') or (a[5]=='9')) and a[6]==\")\" and a[7]==\" \" and a[11]==\"-\" and a[14]==\"-\":\n",
    "        return True\n",
    "    elif a[0]==\"8\" and a[1]==\"(\" and ((a[2]=='0') or (a[2]=='1') or (a[2]=='2') or (a[2]=='3') or (a[2]=='4') or(a[2]=='5') or (a[2]=='6') or (a[2]=='7 ') or (a[2]=='8') or (a[2]=='9')) and ((a[3]=='0') or (a[3]=='1') or (a[3]=='2') or (a[3]=='3') or (a[3]=='4') or (a[3]=='5') or (a[3]=='6') or (a[3]=='7 ') or (a[3]=='8') or (a[3]=='9')) and ((a[4]=='0') or (a[4]=='1') or (a[4]=='2') or (a[4]=='3') or (a[4]=='4') or (a[4]=='5') or (a[4]=='6') or (a[4]=='7 ') or (a[4]=='8') or (a[4]=='9')) and a[5]==\")\" and a[6]==\" \" and a[10]==\"-\" and a[13]==\"-\":\n",
    "        return True\n",
    "    else:\n",
    "        return False\n",
    "print(number(num))"
   ]
  },
  {
   "cell_type": "markdown",
   "metadata": {},
   "source": [
    "**Two missing numbers**"
   ]
  },
  {
   "cell_type": "code",
   "execution_count": null,
   "metadata": {},
   "outputs": [],
   "source": [
    "n=int(input(\"all user \"))\n",
    "userSplit=[int(x) for x in input(\"user in split \").split()]\n",
    "def checkSet(a):\n",
    "    for i in range(len(a)):\n",
    "        if a[i]<0 or a[i]>n:\n",
    "            return False\n",
    "    return True\n",
    "if checkSet(userSplit)==True:\n",
    "    if 2<=n<=10**6 and n!=0:\n",
    "        user={int(x) for x in range(1,n+1)}\n",
    "        userSplit=set(userSplit)   \n",
    "        print(user.difference(userSplit))\n",
    "else:\n",
    "    print(\"What?\")\n"
   ]
  },
  {
   "cell_type": "markdown",
   "metadata": {},
   "source": [
    "**Координаты точек**"
   ]
  },
  {
   "cell_type": "code",
   "execution_count": null,
   "metadata": {},
   "outputs": [],
   "source": [
    "import math\n",
    "\n",
    "def calculate_distance (x1,x2):\n",
    "    result = math.sqrt((x2[0] - x1[0])**2 + (x2[1] - x1[1])**2)\n",
    "    return result\n",
    "\n",
    "def find_closest_point(points,target_point):\n",
    "    result = 0\n",
    "    for i in range(0, len(points)):\n",
    "        if result == i:\n",
    "            result = points[0]\n",
    "        if result[0] > math.fabs(target_point[0] - points[i][0]) and result[1] > math.fabs(target_point[1] - points[i][1]):\n",
    "            result = points[i]\n",
    "    return result\n",
    "\n",
    "def rotate_points (points, angle):\n",
    "    result = []\n",
    "    radAnge = math.radians(angle)\n",
    "    for i in range(0, len(points)):\n",
    "        result.append((round(points[i][0] * math.cos(radAnge) - points[i][1] * math.sin(radAnge)), round(points[i][0] * math.sin(radAnge) + points[i][1] * math.cos(radAnge))))\n",
    "    return result\n",
    "\n",
    "\n",
    "points = [(1, 2), (-3, 4), (5, -6), (0, 0)]\n",
    "point1 = (1, 2); point2 = (4, 6)\n",
    "target_point = (0, 0); angle = 90\n",
    "distance = calculate_distance(point1, point2)\n",
    "closest_point = find_closest_point(points, target_point)\n",
    "rotated_points = rotate_points(points, angle)\n",
    "print(f\"Расстояние между точками {point1} и {point2}: {distance:.2f}\")\n",
    "print(f\"Ближайшая точка к {target_point}: {closest_point}\")\n",
    "print(f\"Повернутые точки: {rotated_points}\")\n"
   ]
  },
  {
   "cell_type": "markdown",
   "metadata": {},
   "source": [
    "**Забастовки**"
   ]
  },
  {
   "cell_type": "code",
   "execution_count": null,
   "metadata": {},
   "outputs": [],
   "source": [
    "import math\n",
    "\n",
    "daysInCalendar = int(input(\"Введите кол-во дней в календаре: \"))\n",
    "countOfPartys = int(input(\"Введите кол-во партий: \"))\n",
    "badDays = []\n",
    "reg = set()\n",
    "for i in range(1, countOfPartys+1):\n",
    "    firstDay, period = map(int,input(f\"Введите первый день и период забастовки {i} партии: \").split())\n",
    "    day = firstDay\n",
    "    bad = []\n",
    "    for j in range(1, daysInCalendar+1):\n",
    "        if (day >= daysInCalendar):\n",
    "            break\n",
    "        bad.append(day)\n",
    "        day+=period\n",
    "    badDays.append(bad)\n",
    "for j in range(0, countOfPartys):\n",
    "    for i in range(0, len(badDays[j])):\n",
    "        if badDays[j][i] - math.floor(badDays[j][i]/7)*7 != 6 and badDays[j][i] - math.floor(badDays[j][i]/7)*7 != 7:\n",
    "            reg.add(badDays[j][i])\n",
    "print(len(reg))"
   ]
  }
 ],
 "metadata": {
  "kernelspec": {
   "display_name": "Python 3",
   "language": "python",
   "name": "python3"
  },
  "language_info": {
   "codemirror_mode": {
    "name": "ipython",
    "version": 3
   },
   "file_extension": ".py",
   "mimetype": "text/x-python",
   "name": "python",
   "nbconvert_exporter": "python",
   "pygments_lexer": "ipython3",
   "version": "3.12.2"
  }
 },
 "nbformat": 4,
 "nbformat_minor": 2
}
