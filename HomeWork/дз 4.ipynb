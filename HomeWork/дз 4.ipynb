{
 "cells": [
  {
   "cell_type": "markdown",
   "metadata": {},
   "source": [
    "**Методы строк**"
   ]
  },
  {
   "cell_type": "markdown",
   "metadata": {},
   "source": [
    "```python\n",
    "#s=\"Самолет\"\n",
    "#s.isdigit == false.  Возвращает строке true, если оно состоит из цифр \n",
    "#s.upper == \"САМОЛЕТ\", увеличивает строку\n",
    "#s.split == Сам, ,лет, делит строку \n",
    "#s.find == 4, ищет место строки по правой стороне\n",
    "#s.rfind == -1, ищет место строки по левой стороне  в отрицательной\n",
    "```"
   ]
  },
  {
   "cell_type": "markdown",
   "metadata": {},
   "source": [
    "**Решите уравнение 𝒂𝒙 ± 𝒃 = 0**"
   ]
  },
  {
   "cell_type": "code",
   "execution_count": null,
   "metadata": {},
   "outputs": [],
   "source": [
    "cifra = input('ввод ')\n",
    "w = cifra.find('x')\n",
    "g = cifra.find('=')\n",
    "if w == 0:\n",
    "    a = 1\n",
    "elif w == 1 and cifra[0] == '-':\n",
    "    a = -1\n",
    "else:\n",
    "    a = int(cifra[:w])\n",
    "b = int(cifra[\n",
    "    (w+1):g])\n",
    "if a < -1000 or a > 1000 or b < -1000 or b > 1000:\n",
    "        print('Числа по модулю должно быть меньше 1000')\n",
    "elif a == 0 and b == 0:\n",
    "        print ('вывод INF')\n",
    "elif a == 0 and b != 0:\n",
    "        print ('вывод NO')\n",
    "else:\n",
    "        print ('вывод', -b / a)"
   ]
  },
  {
   "cell_type": "markdown",
   "metadata": {},
   "source": [
    "**Непустая последовательность**"
   ]
  },
  {
   "cell_type": "code",
   "execution_count": null,
   "metadata": {},
   "outputs": [],
   "source": [
    "f=0\n",
    "g=0\n",
    "while True:\n",
    "    d=int(input(\"число:\"))\n",
    "    if d > 0:\n",
    "        f+=1\n",
    "        g+=d\n",
    "    if d<0:\n",
    "        break\n",
    "print (int(g/f))\n"
   ]
  },
  {
   "cell_type": "markdown",
   "metadata": {},
   "source": [
    "**Такие длинные нули**"
   ]
  },
  {
   "cell_type": "code",
   "execution_count": null,
   "metadata": {},
   "outputs": [],
   "source": [
    "n=int(input(\"введите число:\"))\n",
    "b=-1\n",
    "c=0\n",
    "for _ in range(len(str(n)),10**255):\n",
    "    if n % 10 == 0: \n",
    "        c+=1\n",
    "    else: \n",
    "        c=0\n",
    "    n //= 10\n",
    "    if c>b:\n",
    "        b=c   \n",
    "print(\"как то так получилось🧐:\",b)"
   ]
  },
  {
   "cell_type": "markdown",
   "metadata": {},
   "source": [
    " **уникальные пары**"
   ]
  },
  {
   "cell_type": "code",
   "execution_count": null,
   "metadata": {},
   "outputs": [],
   "source": [
    "f=0\n",
    "g=\"\"\n",
    "while True:\n",
    "    d=input(\"число \")\n",
    "    if d == \"0\":\n",
    "        break\n",
    "    if d not in g.split():\n",
    "        f+=1\n",
    "        g+= \" \" + str(d)\n",
    "print (f)"
   ]
  },
  {
   "cell_type": "markdown",
   "metadata": {},
   "source": [
    "**Обработка потока от Минака**"
   ]
  },
  {
   "cell_type": "code",
   "execution_count": null,
   "metadata": {},
   "outputs": [],
   "source": [
    "a=int(input(\"сколько чисел😬:\"))\n",
    "s=0\n",
    "f=0\n",
    "if a<1000:\n",
    "    while a>s:\n",
    "        s+=1\n",
    "        g=int(input(\"число \"))\n",
    "        if g<30000 and g%9>0:\n",
    "            if g<f or f==0:\n",
    "                f=g\n",
    "print (f)"
   ]
  },
  {
   "cell_type": "markdown",
   "metadata": {},
   "source": [
    "**Количество прямоугольных треугольников**"
   ]
  },
  {
   "cell_type": "code",
   "execution_count": null,
   "metadata": {},
   "outputs": [
    {
     "name": "stdout",
     "output_type": "stream",
     "text": [
      " 1 2 3 4 5 6 7 8 9 10 11 12 13 14 15 16 17 18 19 20 21 22 23 24 25 26 27 28 29 30 31 32 33 34 35 36 37 38 39 40 41 42 43 44 45 46 47 48 49 50 51 52 53 54 55 56 57 58 59 60 61 62 63 64 65 66 67 68 69 70 71 72 73 74 75 76 77 78 79 80 81 82 83 84 85 86 87 88 89 90 91 92 93 94 95 96 97 98 99 100  \n"
     ]
    },
    {
     "ename": "",
     "evalue": "",
     "output_type": "error",
     "traceback": [
      "\u001b[1;31mПри выполнении кода в текущей ячейке или предыдущей ячейке ядро аварийно завершило работу. \n",
      "\u001b[1;31mПроверьте код в ячейках, чтобы определить возможную причину сбоя. \n",
      "\u001b[1;31mЩелкните <a href='https://aka.ms/vscodeJupyterKernelCrash'>здесь</a>, чтобы получить дополнительные сведения. \n",
      "\u001b[1;31mПодробнее см. в <a href='command:jupyter.viewOutput'>журнале Jupyter</a>."
     ]
    }
   ],
   "source": [
    "s=0\n",
    "d=\" \"\n",
    "for a in range (1,100):\n",
    "    for b in range (1,100):\n",
    "        for c in range (1,100):\n",
    "            if c**2==a**2+b**2:\n",
    "                s+=1\n",
    "                d+=str(s)+\" \"\n",
    "print (d,input(\"Аркадий Игоревич, дайте кулочок 👊(press enter)\"))"
   ]
  },
  {
   "cell_type": "markdown",
   "metadata": {},
   "source": [
    "**Составить алгоритм и написать программу**"
   ]
  },
  {
   "cell_type": "code",
   "execution_count": null,
   "metadata": {},
   "outputs": [],
   "source": [
    "a,b=map(int,input(\"введите стороны а и б:\").split())\n",
    "c=int(input(\"введите сторону коврика:\"))\n",
    "j=0\n",
    "for i in range (0,b):\n",
    "    j+=a\n",
    "g=0\n",
    "f=0\n",
    "for k in range (0,c):\n",
    "    g+=c\n",
    "while j>=g:\n",
    "    j-=g    \n",
    "    f+=1\n",
    "print(\"это было жестко, но мы смогли💪:\",f)"
   ]
  },
  {
   "cell_type": "markdown",
   "metadata": {},
   "source": [
    "**Сумма в тугриках**"
   ]
  },
  {
   "cell_type": "code",
   "execution_count": null,
   "metadata": {},
   "outputs": [],
   "source": [
    "k=0\n",
    "for x in range(0,83):\n",
    "    for y in range(0,16):\n",
    "        for z in range(0,8):\n",
    "            for c in range(0,4):\n",
    "                if 1*x+5*y+10*z+20*c==83: \n",
    "                    k+=1\n",
    "print(f\"Всего {k} вариантов:\") #Аркадий Игоревич, а интерполяцию можно использовать?\n",
    "                \n",
    "for x in range(0,23):\n",
    "    for y in range(0,23-x):\n",
    "        for z in range(0,23-y):\n",
    "            for c in range(0,23-z):\n",
    "                if 1*x+5*y+10*z+20*c==46 and x+y+z+c==23: \n",
    "                    print (\"Почему бы и нет:👌\\n\"\"{} монет по тугрику,\\n\\\n",
    "{} по 5 тугриков,\\n\\\n",
    "{} по 10 тугриков,\\n\\\n",
    "{} по 20 тугриков\".format(x,y,z,c))"
   ]
  },
  {
   "cell_type": "markdown",
   "metadata": {},
   "source": [
    "**Кратные своим цифрам**"
   ]
  },
  {
   "cell_type": "code",
   "execution_count": null,
   "metadata": {},
   "outputs": [],
   "source": [
    "a=int(input(\"число \"))\n",
    "for i in range(0,a+1):\n",
    "    for j in str(i):\n",
    "        ji = int(j)\n",
    "        if ji != 0 and ji != 1 and i % ji:\n",
    "            break\n",
    "        elif (ji%10==0) or (i%(ji%10)):\n",
    "            break\n",
    "    else:\n",
    "        print (i)"
   ]
  }
 ],
 "metadata": {
  "kernelspec": {
   "display_name": "Python 3",
   "language": "python",
   "name": "python3"
  },
  "language_info": {
   "codemirror_mode": {
    "name": "ipython",
    "version": 3
   },
   "file_extension": ".py",
   "mimetype": "text/x-python",
   "name": "python",
   "nbconvert_exporter": "python",
   "pygments_lexer": "ipython3",
   "version": "3.12.2"
  }
 },
 "nbformat": 4,
 "nbformat_minor": 2
}
