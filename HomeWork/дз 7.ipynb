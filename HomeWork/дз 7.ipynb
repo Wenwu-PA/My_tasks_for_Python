{
 "cells": [
  {
   "cell_type": "markdown",
   "metadata": {},
   "source": [
    "**Напишите функцию**"
   ]
  },
  {
   "cell_type": "code",
   "execution_count": null,
   "metadata": {},
   "outputs": [],
   "source": [
    "def f(x):\n",
    "    if x<=-2:\n",
    "        x=1-(x+2)**2\n",
    "        return x\n",
    "    elif -2<x<=2:\n",
    "        x=-x/2\n",
    "        return x\n",
    "    elif 2<x:\n",
    "        x=(x-2)**2+1\n",
    "        return x\n",
    "print(f(4.5))\n",
    "print(f(-4.5))\n",
    "print(f(1))"
   ]
  },
  {
   "cell_type": "markdown",
   "metadata": {},
   "source": [
    "**Анализ генетического кода**"
   ]
  },
  {
   "cell_type": "code",
   "execution_count": null,
   "metadata": {},
   "outputs": [
    {
     "name": "stdout",
     "output_type": "stream",
     "text": [
      "['ATC', 'TCG', 'CGG', 'CAT']\n"
     ]
    },
    {
     "ename": "",
     "evalue": "",
     "output_type": "error",
     "traceback": [
      "\u001b[1;31mПри выполнении кода в текущей ячейке или предыдущей ячейке ядро аварийно завершило работу. \n",
      "\u001b[1;31mПроверьте код в ячейках, чтобы определить возможную причину сбоя. \n",
      "\u001b[1;31mЩелкните <a href='https://aka.ms/vscodeJupyterKernelCrash'>здесь</a>, чтобы получить дополнительные сведения. \n",
      "\u001b[1;31mПодробнее см. в <a href='command:jupyter.viewOutput'>журнале Jupyter</a>."
     ]
    }
   ],
   "source": [
    "def find_duplicates(dna, k):\n",
    "    result = []\n",
    "    for i in range(0, len(dna)):\n",
    "        sim = \"\"\n",
    "        if i < (len(dna) - (k-1)):\n",
    "            for j in range(0, k):\n",
    "                    sim += dna[i+j]\n",
    "            if dna.count(sim) > 1 and sim not in result:\n",
    "                result.append(sim)\n",
    "    return result\n",
    "\n",
    "Dna = \"ATCGGACGTCCATCGGCATC\"\n",
    "\n",
    "print(find_duplicates(Dna, 3))"
   ]
  },
  {
   "cell_type": "markdown",
   "metadata": {},
   "source": [
    "**Задача «Число восьмых»**"
   ]
  },
  {
   "cell_type": "code",
   "execution_count": null,
   "metadata": {},
   "outputs": [],
   "source": [
    "def doNums(string):\n",
    "    a = \"\"\n",
    "    b = \"\"\n",
    "    result = []\n",
    "    for i in range(0, len(string)):\n",
    "        if i < string.index(\"/\"):\n",
    "            a += string[i]\n",
    "    for i in range(0, len(string)):\n",
    "        if i > string.index(\"/\"):\n",
    "            b += string[i]\n",
    "    result.append(int(a))\n",
    "    result.append(int(b))\n",
    "    return result\n",
    "\n",
    "def countNum(array, num):\n",
    "    koef = num / array[1]\n",
    "    return int(koef * array[0])\n",
    "a = \"1/8\"\n",
    "b = \"1/4\"\n",
    "c = \"3/8\"\n",
    "d = \"4/16\"\n",
    "print(countNum(doNums(a), 8))\n",
    "print(countNum(doNums(b), 8))\n",
    "print(countNum(doNums(c), 8))\n",
    "print(countNum(doNums(d), 8))"
   ]
  },
  {
   "cell_type": "markdown",
   "metadata": {},
   "source": [
    "**Задача «Мой переезд из Европы»**"
   ]
  },
  {
   "cell_type": "code",
   "execution_count": null,
   "metadata": {},
   "outputs": [],
   "source": [
    "import math\n",
    "def floorToFive(num):\n",
    "    result = math.floor(num * 100000)\n",
    "    return result / 100000\n",
    "\n",
    "\n",
    "def KiloMilo(num, *args):\n",
    "    result = 0\n",
    "    print()\n",
    "    if args.count(True) > 0:\n",
    "        print(\"Из километров в мили\")\n",
    "        result = 0.621371192237334 * num\n",
    "    else:\n",
    "        print(\"Из миль в километры\")\n",
    "        result = num / 0.621371192237334\n",
    "    return floorToFive(result)\n",
    "\n",
    "print(KiloMilo(5, True))"
   ]
  },
  {
   "cell_type": "markdown",
   "metadata": {},
   "source": [
    "**Дан массив 𝐴 из 𝑛 элементов и число 𝑚(1 < 𝑚 < 𝑛). Написать \n",
    "процедуру перестановки первых 𝑚 элементов в конец массива, а \n",
    "элементов с 𝑚 + 1 по 𝑛 – в начало, сохраняя при этом порядок \n",
    "элементов.**"
   ]
  },
  {
   "cell_type": "code",
   "execution_count": null,
   "metadata": {},
   "outputs": [],
   "source": [
    "def mixNums(array, point):\n",
    "    result = []\n",
    "    for i in range(0, len(array)):\n",
    "        if i >= point:\n",
    "            result.append(array[i])\n",
    "    for i in range(0, len(array)):\n",
    "        if i < point:\n",
    "            result.append(array[i])\n",
    "    return result\n",
    "\n",
    "a = [1, 2, 3, 4, 5, 6, 7, 8, 9]\n",
    "\n",
    "print(mixNums(a, 8))"
   ]
  },
  {
   "cell_type": "markdown",
   "metadata": {},
   "source": [
    "**Шаш и Златопольский**"
   ]
  },
  {
   "cell_type": "code",
   "execution_count": null,
   "metadata": {},
   "outputs": [],
   "source": [
    "def countChar(string, char):\n",
    "    index = 0\n",
    "    for i in range(0, len(string)):\n",
    "        if string[i] == char:\n",
    "            index = i\n",
    "    return index\n",
    "str1 = input(\"Введите 1 предложение:\")\n",
    "str2 = input(\"Введите 2 предложение:\")\n",
    "\n",
    "if countChar(str1, \"ш\") > countChar(str2, \"ш\"):\n",
    "    print(\"В первом предложении больший индекс буквы Ш\")\n",
    "elif countChar(str1, \"ш\") < countChar(str2, \"ш\"):\n",
    "    print(\"Во втором предложении больший индекс буквы Ш\")\n",
    "elif countChar(str1, \"ш\") == 0 and countChar(str2, \"ш\") == 0:\n",
    "    print(\"Тут нет буквы Ш🤒\")\n",
    "elif countChar(str1, \"ш\") == countChar(str2, \"ш\"):\n",
    "    print(\"В этих предложениях одинаковое положение буквы Ш\")"
   ]
  },
  {
   "cell_type": "markdown",
   "metadata": {},
   "source": [
    "**Задача «Этрусский перевод»**"
   ]
  },
  {
   "cell_type": "code",
   "execution_count": null,
   "metadata": {},
   "outputs": [],
   "source": [
    "import math\n",
    "numsInRome = [\"M\", \"D\", \"C\", \"L\", \"X\", \"V\", \"I\"]\n",
    "\n",
    "def toRome (countOfNum, indexOfSymbol1, indexOfSymbol2, indexOfSymbol3):\n",
    "    result = \"\"\n",
    "    if countOfNum < 4:\n",
    "        for i in range(0, countOfNum):\n",
    "            result += numsInRome[indexOfSymbol1]\n",
    "    elif 3 < countOfNum < 5:\n",
    "        for i in range(0, 5 - countOfNum):\n",
    "            result += numsInRome[indexOfSymbol1]\n",
    "        result += numsInRome[indexOfSymbol2]\n",
    "    elif 5 < countOfNum < 9:\n",
    "        result += numsInRome[indexOfSymbol2]\n",
    "        for i in range(0, countOfNum - 5):\n",
    "            result += numsInRome[indexOfSymbol1]\n",
    "    elif countOfNum == 5:\n",
    "        result += numsInRome[indexOfSymbol2]\n",
    "    else:\n",
    "        result += numsInRome[indexOfSymbol1]\n",
    "        result += numsInRome[indexOfSymbol3]\n",
    "    return result\n",
    "\n",
    "def changeNum (num):\n",
    "    result = \"\"\n",
    "    tho = math.floor(num/1000)\n",
    "    hund = math.floor((num-tho*1000)/100)\n",
    "    ten = math.floor((num-tho*1000-hund*100)/10)\n",
    "    one = math.floor((num-tho*1000-hund*100-ten*10))\n",
    "    result = f\"{toRome(tho, 0, 0, 0)}{toRome(hund, 2, 1, 0)}{toRome(ten, 4, 3, 2)}{toRome(one, 6, 5, 4)}\"\n",
    "    return result\n",
    "print(changeNum(3794))"
   ]
  },
  {
   "cell_type": "markdown",
   "metadata": {},
   "source": [
    "**футбольное поле. Блюк лок 2 сезон не смотрите, только 1**"
   ]
  },
  {
   "cell_type": "code",
   "execution_count": null,
   "metadata": {},
   "outputs": [],
   "source": [
    "import random\n",
    "def RandomEmoji(count):\n",
    "    d=0\n",
    "    a=str()\n",
    "    while d<count:\n",
    "        d+=1\n",
    "        j=[\"🤜 \",\"😀 \",\"😏 \",\"😧 \",\"🤖 \",\"👾 \",\"☠️ \",\"🧠 \",\"👨‍⚕️ \",\"👩 \",\"👨‍🍳 \",\"👩‍✈️ \",\"👨‍🚒 \",\"👨‍🎨 \",\"👻 \",\"😄\",\"😁\",'🫣','🥹','👀'\n",
    "           ,'👩‍🦲','🦷','👍','🧑‍🦱','👩‍🦳','🤷','🤌','🙆‍♂️','👲','❣️','🤷‍♂️','👩‍❤️‍💋‍👨','🛌','🤎','🕺','🧑‍🦳','👱‍♂️','🧑','😱','🥸'\n",
    "           ,'😡','👨‍🦲','🙆‍♀️','👲','🤟','🙉','🥺','👋','🦴','🧑‍🦳','🧏‍♂️','🛌','🙍','🙆','👲','🦗','🐞','🪲','🪿'\n",
    "           ,'🦋','🦪','🍲','🫛','🍋‍🟩','🫗','🍿','🥨','🥔','🥩','🍜','🍫','🍦','👨‍🎓','🎳','🥊','🏏','🎇','🎱','🧑‍💻','🧟‍♂️','🏄‍♀️']\n",
    "        g=random.randint(0,len(j)-1)\n",
    "        a+=j[g]+\" \"\n",
    "    return (a)\n",
    "def BlueLock(egoist):\n",
    "    count=float(input(\"введите кол-во деревьев: \"))\n",
    "    leftDown=[float(x) for x in (input(\"координаты левого нижнего угла: \")).split()]\n",
    "    rightUp=[float(y) for y in (input(\"координаты правого верхнего угла: \")).split()]\n",
    "    rangeTrees=0\n",
    "    paketTrees=[]\n",
    "    while rangeTrees<count:\n",
    "        rangeTrees+=1\n",
    "        a,b=map(float,input(\"введите координаты дерева \").split())\n",
    "        paketTrees.append([float(a),float(b)])\n",
    "    f=0\n",
    "    for i in range (0,len(paketTrees)):\n",
    "        if paketTrees[i][0]>leftDown[0] and paketTrees[i][0]<rightUp[0]:\n",
    "            if paketTrees[i][1]>leftDown[1] and paketTrees[i][1]<rightUp[1]:\n",
    "                f+=1\n",
    "    print (f\"Эгоист по имени{RandomEmoji(1)} {egoist}  должен пробить столько деревьев: {f}\")\n",
    "(BlueLock(input(\"Введите ваше имя: \")))\n",
    "a=input(\"Аркадий Игоревич, нажмите enter)\")\n",
    "def egoist(a):\n",
    "    print (\"##*--::::::::===++++++=::::::::-------------------------==::::::::---+++-=+++++++:=############%%###\")\n",
    "    print (\"%#**+-:-:::::-++++*+---::::::::--------------------------==::::::::--+++++++-=+++-=+##%%%###########\")\n",
    "    print (\"%###*----=::=--=+++=---:::::::----------------------------==::::::.--=***++--==+=-=#########%%#%%%##\")\n",
    "    print (\"%%%%###-:-+=-=+==++----:::::::-----------------------------=+::::--:---=+++-=*=+++#%%##%%%#######%##\")\n",
    "    print (\"%%+-==--:--=++=++++----:::::::--------====------------------==-----:----=*+=*#+=*########%#%%%%#%%##\")\n",
    "    print (\"%%%#+-----=++=++++=----:::::-----------=--==----------==-----==----=-----+==***=#%#%%%##%%#######%%#\")\n",
    "    print (\"%%%%%%*+++==+*+++++----::::-=-==-----===----=--------=:::-----======--==-==*#*+-#%######%%%#%%%%#%%#\")\n",
    "    print (\"%%%#%%%%%#**+++++**=---:-::-+-====------==--=------=+=-=+**##*++=====---+--+##+-*%%#%%%##%%##%%##%%%\")\n",
    "    print (\"%%%%%%%%%%#*+++++**+---:----*====+**####*++=-=--------=####*=-========*#=---*#+-#%###%%##%%%#%%%#%%%\")\n",
    "    print (\"#%%%#%%#=-=++++++***=-------*+++==++++*###++==--------+###======+===-*%+---+**=+%%%%%%%%##%###%%%%%%\")\n",
    "    print (\"%%%%%%%%%#%%#**+++**=--=---=+==-----:-===*#+=---------*#*==+-:-=*+==-++---=##++##%%##%%%%%%%%%%%###%\")\n",
    "    print (\"##%%%#%%%%%%%%=-=+**+-++====+=+=====++--==-+=---------**==-:+*##+#==-==---=#*=#%#%%%%%%%###%%#%%%%%%\")\n",
    "    print (\"%%%%%%%%%%#%%%*+=-=+*=-=====+==:...:::=*====----------*==+*-:*++*++=--=---=+-+#%###%%#%%%%%%%#%%%##%\")\n",
    "    print (\"%##%%%%%%%%%%%%+##+-=+=======:--.:#++*-.+#+==---------=+#%++*###*=+==-----=--*%%%%%%%%%%%##%%%%%%%%%\")\n",
    "    print (\"%%%%%%#%%%#%%%%#*###=--=====+:.-.-#+#++..-%#=---------++#*===-----+==-----++**#%%#%%%%%%%%%%%%#%%%#%\")\n",
    "    print (\"%%%%%%%%%%%%%%%#***%#*-==-==+#-::.-+++:..-*@%+-------=------------+=====--#%####%%%%%%#%%%#%%%%%%%%%\")\n",
    "    print (\"%%%%%%%#%%%#%%%%#+=##*=-=--=+#%#=:....:+#%*=++--------------------=-==----#%%%%%%%#%%%%%%%%%%%%#%%%#\")\n",
    "    print (\"%%%%%%%%%%%%%%%%###+##*===:==+==*#%%##*+=-------------------------+-=+---=#%%%%%%%%%%%##%%%%%%%%%%%%\")\n",
    "    print (\"%%%%%%###%%%%%%%%%%%#+##*+:===------------------------------------+-==---*%#%%#%%%%%%%%%%%%#%%%##%%%\")\n",
    "    print (\"%%%%%%%%%%%%#%%%##%%%%#=+*-:=+=-----------------------------------+====--%#*#%%%%%%%%%%#%%%%%%%%%%%%\")\n",
    "    print (\"%%%%#%%%%%%%%%%%%%%%%%%%*=-:=+=------------------------==---------+==++-*#*++%%#%%%%%%%%%%%%#%%%%%%%\")\n",
    "    print (\"%%%%%%%%%%%%%#%%%%%%%%%%%%#-:==------------------=*+==*#+---------*==--+##*==#%%%%%%#%%%%%%%%%%%%%%%\")\n",
    "    print (\"%#%%%#%%%%%%%%%%%%%%%%#%%##*--+=----=-------------=+###+------=+**+---+%#**=-*%%%%%%%%%%%%%%##%%%%%%\")\n",
    "    print (\"%%%%%%%%%%%%%%#%%%%%%%%%%#%#+-+*=-----=--------------====++*****++=--+%##**=-=#%#%%%#%%%%%%%%%%%%#%%\")\n",
    "    print (\"%#%%%%%%%%%%%%%%%%%#%%%#%%%%#*=*%+---+*=-----------=++****+===+=-=--=#%#***---*%%%%%%%%%%#%%%#%%%%%%\")\n",
    "    print (\"%%%%%%%%%%##%%%%%%%%%%%%%%%%%#*+%%#+--====+*##******++*+=====+=-=--+#%#**#+---=#%#%%%%%%%%%%%%%%%%#%\")\n",
    "    print (\"%%%%%%%%%%%%%%%%%%%##%%%%%%%%%%%#@%%%+=------=**+===========*=----+%%#++*#+---=%%%%%%%%%%%#%%%%%%%%%\")\n",
    "    print (\"%%%%%%%#%%%#%%%%%%%%%%%%%%%%##%%%%%##%%%+-------=+=======+*=-----*%%#*=+*#=--+%@%%%%%%%%%%%%%%%%%%%#\")\n",
    "    print (\"%%%%%%%%%%%%%%%%%%%%#%%%%%%%%%%%%%%%#*#%%%#+=------==++====+---=*%%#*=-=*#==+%@%@%%%%###%%%%%%%%%%%#\")\n",
    "    print (\"%%%%%%%%%%%%%%%%%%%%%%%%%%%%%%%%%%%%%++*%%%%%#+=------=+**=---=*%%##+---+*=*%%%%%%*+=:::-*%%%%%%%%%%\")\n",
    "    print (\"%%%%%%%%%%%%%%%%%%%%%%%%%%%%%%%%%%%%%#==*###%%%%#+=----------=*%%%#+----=#%%%%%%%%%@%=:::-#%@@%%%%%%\")\n",
    "    print (\"%%%%%%%%%%%%%%%%%%%%%%%%%%#%%%%%%%%%%%#==+####%%%%%#*=-----=+#%%%#*=---=*%%%%%%%%%%%@*::::+%%@@%%%%%\")\n",
    "    print (\"%%%%%%%%%%%%%%%%%%%%%%%%%%%%%%%%%%%%%%%#=-=*#####%%%%%%##%%%%%%%#*=--=+#%%%%%%%%%%%%%#::::=#%@@%%%%%\")\n",
    "    print (\"%%%%%%%%%%%%%%%%%%%%%%%%%%%%%%%%%%%%%%%%#--=+##**##%%%%%%%%%%%###+=-=*%%%%%%%%%%%%%%%#::::-#%@@%%%%%\")\n",
    "    print (\"%%%%%%%%%%%%%%%%%%%%%%%%%%%%%%%%%%%%%%%%%%*+==*###**##%%%%#%%###+==+%%%%%%%%%%%%%%%%%#:::::*%%@%%%%%\")\n",
    "    print (\"%%%%%%%%%%%%%%%%%%%%%%%%%%%%%%%%%%%%%%%%%@@@@@@@@%%############*=+%%%%%%%%%%%%%%%%%%%#:::::+%%@%%%%%\")\n",
    "    print (\"%%%%%%%%%%%%%%%%%%%%%%%%%%%%%%%%#%%%%%%%@@%%%%%%%@@@@@@@@@@%%%%%%%%%%%%%%%%%%%%%%%%%%#:::::+%%%%%%%%\")\n",
    "    print (\"%%%%%%%%%%%%%%%%%%%%%%%%%%%%%%%%%%%%%%@%%%%%%%%%%%%@@@@@@@@@@@%%%%%%%%%%%%%%%%%%%%%%%*:::::=%%%%%%%%\")\n",
    "    print (\"Аркадий Игоревич, а у Вас ведь тоже есть свой монстр?\")\n",
    "egoist(a)"
   ]
  }
 ],
 "metadata": {
  "kernelspec": {
   "display_name": "Python 3",
   "language": "python",
   "name": "python3"
  },
  "language_info": {
   "codemirror_mode": {
    "name": "ipython",
    "version": 3
   },
   "file_extension": ".py",
   "mimetype": "text/x-python",
   "name": "python",
   "nbconvert_exporter": "python",
   "pygments_lexer": "ipython3",
   "version": "3.12.2"
  }
 },
 "nbformat": 4,
 "nbformat_minor": 2
}
