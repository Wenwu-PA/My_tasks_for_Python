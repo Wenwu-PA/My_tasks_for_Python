{
 "cells": [
  {
   "cell_type": "markdown",
   "metadata": {},
   "source": [
    "**Напишите программу, которая для заданного массива вычисляет и выводит\n",
    "количество, сумму и среднее арифметическое всех его элементов, которые:**"
   ]
  },
  {
   "cell_type": "markdown",
   "metadata": {},
   "source": [
    "**a)равны первому элементу;**"
   ]
  },
  {
   "cell_type": "code",
   "execution_count": null,
   "metadata": {},
   "outputs": [],
   "source": [
    "a=[3,4,5,4,5,3,2]\n",
    "count=0\n",
    "for i in range(0,len(a)):\n",
    "    if a[i]==a[0]:\n",
    "        count+=1\n",
    "summ=a[0]*count\n",
    "mid=summ/count\n",
    "print (f\"количество {count}\\n\"\n",
    "       f\"сумма {summ}\\n\"\n",
    "       f\"среднее арифмитическое {mid}\\n\")"
   ]
  },
  {
   "cell_type": "markdown",
   "metadata": {},
   "source": [
    "**b)меньше первого элемента;**"
   ]
  },
  {
   "cell_type": "code",
   "execution_count": 9,
   "metadata": {},
   "outputs": [
    {
     "name": "stdout",
     "output_type": "stream",
     "text": [
      "количество 4\n",
      "сумма 10\n",
      "среднее арифмитическое 2.5\n",
      "\n"
     ]
    }
   ],
   "source": [
    "a=[5,1,2,3,4]\n",
    "count=0\n",
    "summ=0\n",
    "for i in range(0,len(a)):\n",
    "    if a[i]<a[0]:\n",
    "        count+=1\n",
    "        summ+=a[i]\n",
    "if count==0:\n",
    "    summ=0\n",
    "    mid=0\n",
    "else:\n",
    "    mid=summ/count\n",
    "print (f\"количество {count}\\n\"\n",
    "       f\"сумма {summ}\\n\"\n",
    "       f\"среднее арифмитическое {mid}\\n\")"
   ]
  },
  {
   "cell_type": "markdown",
   "metadata": {},
   "source": [
    "**c)больше последнего элемента;**"
   ]
  },
  {
   "cell_type": "code",
   "execution_count": 16,
   "metadata": {},
   "outputs": [
    {
     "name": "stdout",
     "output_type": "stream",
     "text": [
      "количество 3\n",
      "сумма 12\n",
      "среднее арифмитическое 4\n",
      "\n"
     ]
    }
   ],
   "source": [
    "a=[3,4,5,2]\n",
    "count=0\n",
    "summ=0\n",
    "for i in range(0,len(a)):\n",
    "    if a[i]>a[len(a)-1]:\n",
    "        count+=1\n",
    "        summ+=a[i]\n",
    "if count==0:\n",
    "    summ=0\n",
    "    mid=0\n",
    "else:\n",
    "    mid=summ//count\n",
    "print (f\"количество {count}\\n\"\n",
    "       f\"сумма {summ}\\n\"\n",
    "       f\"среднее арифмитическое {mid}\\n\")"
   ]
  },
  {
   "cell_type": "markdown",
   "metadata": {},
   "source": [
    "**d)меньше предыдущего элемента;**"
   ]
  },
  {
   "cell_type": "code",
   "execution_count": null,
   "metadata": {},
   "outputs": [
    {
     "name": "stdout",
     "output_type": "stream",
     "text": [
      "количество 1\n",
      "сумма 2\n",
      "среднее арифмитическое 2\n",
      "\n"
     ]
    }
   ],
   "source": [
    "a=[5,3,2,7,6,8]\n",
    "count=0\n",
    "summ=0\n",
    "for i in range(0,len(a)):\n",
    "    if a[i]!=a[len(a)-1]:\n",
    "        if a[i]<a[i-1]:\n",
    "            count+=1 \n",
    "            summ+=a[i] \n",
    "if count==0:\n",
    "    summ=0\n",
    "    mid=0\n",
    "else:\n",
    "    mid=summ//count\n",
    "print (f\"количество {count}\\n\"\n",
    "    f\"сумма {summ}\\n\"\n",
    "    f\"среднее арифмитическое {mid}\\n\")"
   ]
  },
  {
   "cell_type": "markdown",
   "metadata": {},
   "source": [
    "**e)больше следующего элемента;**"
   ]
  },
  {
   "cell_type": "code",
   "execution_count": null,
   "metadata": {},
   "outputs": [],
   "source": [
    "a=[5,3,2,7,6,8]\n",
    "count=0\n",
    "summ=0\n",
    "for i in range(0,len(a)):\n",
    "    if a[i]!=a[len(a)-1]:\n",
    "        if a[i]>a[i+1]:\n",
    "            count+=1 \n",
    "            summ+=a[i] \n",
    "if count==0:\n",
    "    summ=0\n",
    "    mid=0\n",
    "else:\n",
    "    mid=summ//count\n",
    "print (f\"количество {count}\\n\"\n",
    "    f\"сумма {summ}\\n\"\n",
    "    f\"среднее арифмитическое {mid}\\n\")"
   ]
  },
  {
   "cell_type": "markdown",
   "metadata": {},
   "source": [
    "**f) делятся без остатка на последний элемент.**"
   ]
  },
  {
   "cell_type": "code",
   "execution_count": null,
   "metadata": {},
   "outputs": [],
   "source": [
    "a=[5,3,2,4,16,7,6,8]\n",
    "count=0\n",
    "summ=0\n",
    "for i in range(0,len(a)):\n",
    "    if a[i]!=a[len(a)-1]:\n",
    "        if a[i]%a[len(a)-1]==0:\n",
    "            count+=1 \n",
    "            summ+=a[i] \n",
    "if count==0:\n",
    "    summ=0\n",
    "    mid=0\n",
    "else:\n",
    "    mid=summ//count\n",
    "print (f\"количество {count}\\n\"\n",
    "    f\"сумма {summ}\\n\"\n",
    "    f\"среднее арифмитическое {mid}\\n\")"
   ]
  },
  {
   "cell_type": "markdown",
   "metadata": {},
   "source": [
    "**Скользящая средняя**"
   ]
  },
  {
   "cell_type": "code",
   "execution_count": null,
   "metadata": {},
   "outputs": [],
   "source": [
    "a=[int(x) for x in input('Введите последовательность чисел: ')] \n",
    "b=[]\n",
    "b1=[]\n",
    "for i in range(len(a)-1):\n",
    "    b.append((a[i] + a[i+1]) // 2)\n",
    "    b1.append((a[i] + a[i+1]) / 2)\n",
    "print(f\"если делить на цело:{b}\\n\"\n",
    "      f\"если делить как просят:{b1}\")"
   ]
  },
  {
   "cell_type": "markdown",
   "metadata": {},
   "source": [
    "**Заполните массив случайными числами так, чтобы каждый\n",
    "следующий элемент был либо равен предыдущему, либо на\n",
    "единицу больше предыдущего. Напишите программу, которая для\n",
    "такого массива выводит:**"
   ]
  },
  {
   "cell_type": "code",
   "execution_count": null,
   "metadata": {},
   "outputs": [],
   "source": [
    "from random import*\n",
    "mec=0\n",
    "ec=0\n",
    "j=0\n",
    "sk=int(input('Введите длину ступени: '))\n",
    "n=int(input('Введите размер массива: '))\n",
    "A = [randint(1, 10)]\n",
    "for _ in range(1, n):\n",
    "    if choice([True, False]):\n",
    "        A.append(A[-1])\n",
    "    else:\n",
    "        A.append(A[-1] + sk)\n",
    "for i in range(1, len(A)):\n",
    "    if A[i] > A[i - 1]:\n",
    "        j += 1\n",
    "    if A[i] == A[i - 1]:\n",
    "        ec += 1\n",
    "    elif ec > mec:\n",
    "        mec = ec\n",
    "        ec = 1\n",
    "if ec > mec: mec = ec\n",
    "print(A)\n",
    "print(f\"Число скачков⛹️‍♂️: {j}\\n\"\n",
    "      f\"Наибольшее количество подряд идущих одинаковых элементов🐻👉 👈🐻: {mec}\")"
   ]
  },
  {
   "cell_type": "markdown",
   "metadata": {},
   "source": [
    "**Известно, что в массиве нет нулевых элементов.\n",
    "Напишите программу, которая определяет количество\n",
    "перемен знака в массиве (перемена знака происходит\n",
    "тогда, когда два соседних элемента имеют разные знаки).**"
   ]
  },
  {
   "cell_type": "code",
   "execution_count": null,
   "metadata": {},
   "outputs": [],
   "source": [
    "import random\n",
    "a=[]\n",
    "f=0\n",
    "g=0\n",
    "for i in range (1,random.randint(1,100)):\n",
    "    s=random.randint(-100,100)\n",
    "    if s!=0:\n",
    "        a.append(s)        \n",
    "print (a)\n",
    "for d in range(0,len(a)-1):\n",
    "        if a[d] > 0 and a[d + 1] < 0:\n",
    "            f+=1\n",
    "        elif a[d]<0 and a[d+1]>0:\n",
    "            g+=1\n",
    "print (f\"с плюсиками☝️ :{g}\\n\"\n",
    "       f\"с минусами👇:{f}\\n\"\n",
    "       f\"всего переходов 🤝:{f+g}\")   "
   ]
  },
  {
   "cell_type": "markdown",
   "metadata": {},
   "source": [
    "**В массиве 𝑑𝑖𝑠𝑡 записаны расстояния от игрока до опасных\n",
    "существ. Существо считается угрожающим, если расстояние до\n",
    "него меньше, чем 100. Напишите программу, которая:\n",
    "a) определяет, угрожают ли игроку какие-нибудь существа;\n",
    "b) записывает в новый массив индексы угрожающих существ.**"
   ]
  },
  {
   "cell_type": "code",
   "execution_count": null,
   "metadata": {},
   "outputs": [],
   "source": [
    "dist=[int(x) for x in input('Введите расстояние до мобов: ').split()]\n",
    "enemies=[]\n",
    "for i in range(len(dist)):\n",
    "    if dist[i] < 100: enemies.append(i)\n",
    "if not enemies: \n",
    "    print(\"угроз нету😀\")\n",
    "else: \n",
    "    print(f\"Расстояние до мобов📏:{dist}\\n\"\n",
    "            f\"Индексы мобов👺:{enemies}\")"
   ]
  },
  {
   "cell_type": "markdown",
   "metadata": {},
   "source": [
    "**В массиве 𝑑𝑖𝑠𝑡 записаны расстояния от игрока до опасных\n",
    "существ, а в массиве enemies – коды этих существ.\n",
    "Напишите программу, которая выводит код самого\n",
    "опасного существа (того, которое ближе всего к игроку).**"
   ]
  },
  {
   "cell_type": "code",
   "execution_count": null,
   "metadata": {},
   "outputs": [],
   "source": [
    "dist=[int(x) for x in input('Введите расстояние до мобов📌: ').split()]\n",
    "enemies=[]\n",
    "for i in range(len(dist)):\n",
    "    if (dist[i]) < 100: \n",
    "        enemies.append(i)\n",
    "        (f\"Код самого опасного моба🤛👹🤜:{dist.index(min(dist[:]))}\")\n",
    "if not enemies: \n",
    "    print(\"угроз нету😀\") \n",
    "else: \n",
    "    print(f\"Расстояние до мобов📏:{dist}\\n\"\n",
    "            f\"Индексы мобов👺:{enemies}\\n\"\n",
    "                f\"Код самого опасного моба🤛👹🤜:{dist.index(min(dist[:]))}\")"
   ]
  }
 ],
 "metadata": {
  "kernelspec": {
   "display_name": "Python 3",
   "language": "python",
   "name": "python3"
  },
  "language_info": {
   "codemirror_mode": {
    "name": "ipython",
    "version": 3
   },
   "file_extension": ".py",
   "mimetype": "text/x-python",
   "name": "python",
   "nbconvert_exporter": "python",
   "pygments_lexer": "ipython3",
   "version": "3.12.2"
  }
 },
 "nbformat": 4,
 "nbformat_minor": 2
}
