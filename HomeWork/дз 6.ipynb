{
 "cells": [
  {
   "cell_type": "markdown",
   "metadata": {},
   "source": [
    "**Массив содержит отсчёты, записанные при измерении цифрового\n",
    "сигнала, переведённого в аналоговую форму. Из-за помех не все из\n",
    "них равны 0 или 1. Нужно заменить все значения, большие, чем 0,9,\n",
    "на 1, а все значения, меньшие, чем 0,1 – на 0. Все остальные\n",
    "значения (от 0,1 до 0,9) заменяются на 0,5 (неустановившийся\n",
    "режим).**"
   ]
  },
  {
   "cell_type": "code",
   "execution_count": null,
   "metadata": {},
   "outputs": [],
   "source": [
    "import random\n",
    "a=[float(x) for x in (input(\"введите число: \").split())]\n",
    "for i in range (0,len(a)):\n",
    "        if a[i]>0.9:\n",
    "            a[i]=1\n",
    "        elif a[i]<0.1:\n",
    "            a[i]=0\n",
    "        elif 0.1<=a[i]<=0.9:\n",
    "            a[i]=0.5\n",
    "r=str()\n",
    "j=[\"🤜 \",\"😀 \",\"😏 \",\"😧 \",\"🤖 \",\"👾 \",\"☠️ \",\"🧠 \",\"👨‍⚕️ \",\"👩 \",\"👨‍🍳 \",\"👩‍✈️ \",\"👨‍🚒 \",\"👨‍🎨 \",\"👻 \"]\n",
    "for f in range(0,len(a)):\n",
    "    r=r+str(a[f])+str(j[(random.randint(0,len(j)-1))])\n",
    "print (\"работает: \",r)\n"
   ]
  },
  {
   "cell_type": "markdown",
   "metadata": {},
   "source": [
    "**Напишите программу, которая во введённой символьной строке\n",
    "заменяет все буквы «а» на буквы «б» и наоборот, как прописные, так и\n",
    "строчные. Например: при вводе строки абсАБС должен получиться\n",
    "результат басБАС.**"
   ]
  },
  {
   "cell_type": "code",
   "execution_count": null,
   "metadata": {},
   "outputs": [],
   "source": [
    "a = \"абсАБС\"\n",
    "b = [a[i] for i in range(0, len(a))]\n",
    "    \n",
    "for i in range(0, len(b)):\n",
    "    if b[i] == \"а\":\n",
    "        b[i] = \"б\"\n",
    "    elif b[i] == \"А\":\n",
    "        b[i] = \"Б\"\n",
    "    elif b[i] == \"б\":\n",
    "        b[i] = \"а\"\n",
    "    elif b[i] == \"Б\":\n",
    "        b[i] = \"А\"\n",
    "p = \"\".join(b) \n",
    "print(p)"
   ]
  },
  {
   "cell_type": "markdown",
   "metadata": {},
   "source": [
    "**Дана строка. Сформировать новую строку, отличающуюся от\n",
    "данной тем, что в ней нет подряд идущих одинаковых символов.**"
   ]
  },
  {
   "cell_type": "code",
   "execution_count": null,
   "metadata": {},
   "outputs": [],
   "source": [
    "str = \"КРРАААСОТАААА\"\n",
    "array = [str[i] for i in range(0, len(str))] \n",
    "result = []\n",
    "\n",
    "for j in range(0, len(str)):\n",
    "    if j != len(array) - 1:\n",
    "        if array[j] != array[j+1]:\n",
    "            result.append(array[j])\n",
    "    else:\n",
    "        result.append(array[j])\n",
    "print(result)"
   ]
  },
  {
   "cell_type": "markdown",
   "metadata": {},
   "source": [
    "**проект**"
   ]
  },
  {
   "cell_type": "code",
   "execution_count": null,
   "metadata": {},
   "outputs": [
    {
     "name": "stdout",
     "output_type": "stream",
     "text": [
      "{🔷🔹==========================🔹🔷}\n",
      "Вас привествует генератор паролей!\n",
      "выберите команду: \n",
      "1) сгенерировать пароль\n",
      "2) сохранить пароль\n",
      "3) сохраненные пароли\n",
      "|🔷🔹___________( )____________🔹🔷|\n",
      "🔹♦️новый пароль♦️🔹: 53маленькихкрокодиловхрюкают{\n",
      "🔹♦️новый пароль♦️🔹: 60черныхлягушекбегут@\n",
      "{🔴🔹==========================🔹🔴}\n",
      "🔹♦️не забудьте скопировать пароль♦️🔹\n",
      "|🔴🔹___________( )____________🔹🔴|\n",
      "{🔷🔹==========================🔹🔷}\n",
      "Вас привествует генератор паролей!\n",
      "выберите команду: \n",
      "1) сгенерировать пароль\n",
      "2) сохранить пароль\n",
      "3) сохраненные пароли\n",
      "|🔷🔹___________( )____________🔹🔷|\n"
     ]
    }
   ],
   "source": [
    "import random, string \n",
    "save=[] \n",
    "adjectives = ['смешных', 'полосатых', 'маленьких', 'хрустальных', 'черных', 'радостных', 'медленных', 'фиолетовых'] \n",
    "nouns = ['слонов', 'бегемотов', 'крокодилов', 'обезьян', 'драконов', 'котиков', 'единорогов', 'пегасов', 'лягушек'] \n",
    "verbs = ['бегут', 'летят', 'прыгают', 'читают', 'хрюкают']\n",
    "while True:\n",
    "    print(\"{🔷🔹==========================🔹🔷}\")\n",
    "    print('Вас привествует генератор паролей!\\nвыберите команду: \\n1) сгенерировать пароль\\n2) сохранить пароль\\n3) сохраненные пароли') \n",
    "    print(\"|🔷🔹___________( )____________🔹🔷|\")\n",
    "    choose=int(input(\"🔹♦️Введите команду♦️🔹: \"))\n",
    "    if choose==1: \n",
    "        N = int(input(\"🔹♦️сколько паролей потребуется♦️🔹?: \")) \n",
    "        for i in range(N): \n",
    "            verb = random.choice(verbs) \n",
    "            noun = random.choice(nouns) \n",
    "            adjective = random.choice(adjectives) \n",
    "            number = str(random.randrange(2, 100)) \n",
    "            symbol = random.choice(string.punctuation) \n",
    "            password = number + adjective + noun + verb + symbol \n",
    "            print('🔹♦️новый пароль♦️🔹: ' + password)\n",
    "        print(\"{🔴🔹==========================🔹🔴}\") \n",
    "        print(\"🔹♦️не забудьте скопировать пароль♦️🔹\")\n",
    "        print(\"|🔴🔹___________( )____________🔹🔴|\") \n",
    "    elif choose==2: \n",
    "        s=input(\"🔹♦️какой пароль хотите сохранить♦️🔹?:\") \n",
    "        save.append(s) \n",
    "        print(\"🔹♦️сохранен♦️🔹✅!\") \n",
    "    elif choose==3: \n",
    "        result=str() \n",
    "        for i in range(0,len(save)): \n",
    "            result=result+f\"{i+1}. \"+save[i]+\"\\n\" \n",
    "        print (result)\n",
    "        "
   ]
  }
 ],
 "metadata": {
  "kernelspec": {
   "display_name": "Python 3",
   "language": "python",
   "name": "python3"
  },
  "language_info": {
   "codemirror_mode": {
    "name": "ipython",
    "version": 3
   },
   "file_extension": ".py",
   "mimetype": "text/x-python",
   "name": "python",
   "nbconvert_exporter": "python",
   "pygments_lexer": "ipython3",
   "version": "3.12.2"
  }
 },
 "nbformat": 4,
 "nbformat_minor": 2
}
